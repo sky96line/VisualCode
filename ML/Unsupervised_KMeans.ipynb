{
 "cells": [
  {
   "cell_type": "code",
   "execution_count": 36,
   "metadata": {},
   "outputs": [],
   "source": [
    "from sklearn.cluster import KMeans\n",
    "import numpy as np\n",
    "import matplotlib.pyplot as plt \n",
    "from matplotlib import style"
   ]
  },
  {
   "cell_type": "code",
   "execution_count": 21,
   "metadata": {},
   "outputs": [],
   "source": [
    "x = [1,5,1.5,8,1,9]\n",
    "y = [2,8,1.8,8,0.6,11]\n",
    "\n",
    "X = zip(x,y)"
   ]
  },
  {
   "cell_type": "code",
   "execution_count": 35,
   "metadata": {},
   "outputs": [
    {
     "name": "stdout",
     "output_type": "stream",
     "text": [
      "Cordinates :  (1, 2) Labels :  0\n",
      "Cordinates :  (5, 8) Labels :  1\n",
      "Cordinates :  (1.5, 1.8) Labels :  0\n",
      "Cordinates :  (8, 8) Labels :  1\n",
      "Cordinates :  (1, 0.6) Labels :  0\n",
      "Cordinates :  (9, 11) Labels :  2\n"
     ]
    },
    {
     "data": {
      "image/png": "[encoded data removed]",
      "text/plain": [
       "<matplotlib.figure.Figure at 0x2ce9d30>"
      ]
     },
     "metadata": {},
     "output_type": "display_data"
    }
   ],
   "source": [
    "kmeans = KMeans(n_clusters = 3)\n",
    "kmeans.fit(X)\n",
    "\n",
    "centers = kmeans.cluster_centers_\n",
    "lables = kmeans.labels_\n",
    "\n",
    "#print(centers)\n",
    "#print(lables)\n",
    "\n",
    "color = ['r.','g.','k.']\n",
    "\n",
    "for i in range(len(X)):\n",
    "    \n",
    "    \n",
    "    \n",
    "    \n",
    "    \n",
    "    print(\"Cordinates : \",X[i], \"Labels : \", lables[i])\n",
    "    plt.plot(X[i][0], X[i][1], color[lables[i]], markersize = 10)\n",
    "    \n",
    "plt.scatter(centers[:,0], centers[:,1])\n",
    "plt.show()"
   ]
  }
 ],
 "metadata": {
  "kernelspec": {
   "display_name": "Python 2",
   "language": "python",
   "name": "python2"
  },
  "language_info": {
   "codemirror_mode": {
    "name": "ipython",
    "version": 2
   },
   "file_extension": ".py",
   "mimetype": "text/x-python",
   "name": "python",
   "nbconvert_exporter": "python",
   "pygments_lexer": "ipython2",
   "version": "2.7.13"
  }
 },
 "nbformat": 4,
 "nbformat_minor": 2
}
